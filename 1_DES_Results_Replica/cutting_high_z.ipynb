{
  "nbformat": 4,
  "nbformat_minor": 0,
  "metadata": {
    "colab": {
      "provenance": []
    },
    "kernelspec": {
      "name": "python3",
      "display_name": "Python 3"
    },
    "language_info": {
      "name": "python"
    }
  },
  "cells": [
    {
      "cell_type": "code",
      "execution_count": 1,
      "metadata": {
        "colab": {
          "base_uri": "https://localhost:8080/"
        },
        "id": "QyKTXacLXGTf",
        "outputId": "e8c5c4d4-ad99-4d5a-93d7-7b6fc1528c61"
      },
      "outputs": [
        {
          "output_type": "stream",
          "name": "stdout",
          "text": [
            "Requirement already satisfied: astropy in /usr/local/lib/python3.12/dist-packages (7.1.0)\n",
            "Requirement already satisfied: numpy>=1.23.2 in /usr/local/lib/python3.12/dist-packages (from astropy) (2.0.2)\n",
            "Requirement already satisfied: pyerfa>=2.0.1.1 in /usr/local/lib/python3.12/dist-packages (from astropy) (2.0.1.5)\n",
            "Requirement already satisfied: astropy-iers-data>=0.2025.4.28.0.37.27 in /usr/local/lib/python3.12/dist-packages (from astropy) (0.2025.8.11.0.41.9)\n",
            "Requirement already satisfied: PyYAML>=6.0.0 in /usr/local/lib/python3.12/dist-packages (from astropy) (6.0.2)\n",
            "Requirement already satisfied: packaging>=22.0.0 in /usr/local/lib/python3.12/dist-packages (from astropy) (25.0)\n"
          ]
        }
      ],
      "source": [
        "!pip install astropy\n",
        "\n",
        "import numpy as np\n",
        "import pandas as pd\n",
        "import astropy as ap\n",
        "import matplotlib.pyplot as plt"
      ]
    },
    {
      "cell_type": "code",
      "source": [
        "# mount drive\n",
        "from google.colab import drive\n",
        "drive.mount(\"/content/drive\")"
      ],
      "metadata": {
        "colab": {
          "base_uri": "https://localhost:8080/"
        },
        "id": "FRaLuWxOXJDL",
        "outputId": "fb7b9299-65c0-4f5b-f653-2c85ac591a0d"
      },
      "execution_count": 2,
      "outputs": [
        {
          "output_type": "stream",
          "name": "stdout",
          "text": [
            "Mounted at /content/drive\n"
          ]
        }
      ]
    },
    {
      "cell_type": "code",
      "source": [
        "# loading in data\n",
        "\n",
        "csv_data = '/content/drive/MyDrive/2024project/DES-SN5YR_HD.csv'\n",
        "df = pd.read_csv(csv_data)\n",
        "\n",
        "z_obs = df['zHD']\n",
        "mu_obs = df['MU']\n",
        "mu_error = df['MUERR_FINAL']"
      ],
      "metadata": {
        "id": "E0xfVOnjXKmp"
      },
      "execution_count": 3,
      "outputs": []
    },
    {
      "cell_type": "code",
      "source": [
        "# mask to cut out high z\n",
        "mask = z_obs < 0.85 # same as DES\n",
        "\n",
        "z_obs_cut = z_obs[mask]\n",
        "mu_obs_cut = mu_obs[mask]\n",
        "mu_error_cut = mu_error[mask]\n",
        "\n",
        "print(len(z_obs_cut))\n",
        "print(len(mu_obs_cut))\n",
        "print(len(mu_error_cut))"
      ],
      "metadata": {
        "colab": {
          "base_uri": "https://localhost:8080/"
        },
        "id": "v3UsiLHqXR-O",
        "outputId": "65542029-3b8b-40d9-80b4-1e466c91a4d9"
      },
      "execution_count": 4,
      "outputs": [
        {
          "output_type": "stream",
          "name": "stdout",
          "text": [
            "1747\n",
            "1747\n",
            "1747\n"
          ]
        }
      ]
    },
    {
      "cell_type": "code",
      "source": [
        "# apply cov mat\n",
        "sys_data = np.loadtxt('/content/drive/MyDrive/2024project/STAT+SYS_new.txt')\n",
        "shape = (1829, 1829)\n",
        "sys_data_proper = sys_data.reshape(shape)\n",
        "sys_data_cut = sys_data_proper[mask][:,mask]\n",
        "np.fill_diagonal(sys_data_cut, sys_data_cut.diagonal()+mu_error_cut**2)\n",
        "\n",
        "inverse_cm = np.linalg.inv(sys_data_cut)"
      ],
      "metadata": {
        "id": "eTQKGkRMXXF-"
      },
      "execution_count": 5,
      "outputs": []
    },
    {
      "cell_type": "code",
      "source": [
        "from scipy.stats import linregress\n",
        "from astropy.io import fits\n",
        "from scipy.integrate import quad\n",
        "from scipy.optimize import curve_fit, minimize, approx_fprime\n",
        "import csv"
      ],
      "metadata": {
        "id": "49jNUF1SXfsM"
      },
      "execution_count": 6,
      "outputs": []
    },
    {
      "cell_type": "code",
      "source": [
        "# minimising chi2 for Flat-ΛCDM\n",
        "c = 3e5 # km/s\n",
        "\n",
        "# flat-ΛCDM, fitting for omega_M using eqn from table 1\n",
        "def E(z, OmegaM):\n",
        "    hubble_param = np.sqrt(OmegaM * (1 + z)**3 + (1 - OmegaM))\n",
        "    return hubble_param\n",
        "    print(hubble_param)\n",
        "\n",
        "# R0 * χ(z): Comoving distance, equation 2\n",
        "def R0_chi(z, OmegaM, H0):\n",
        "    def integrand(z):\n",
        "        return 1 / E(z, OmegaM)\n",
        "\n",
        "    # performing numerical integration\n",
        "    integral, _ = quad(integrand, 0, z)\n",
        "    return (c / H0) * integral\n",
        "\n",
        "def mu_theoretical(OmegaM, H0, z):\n",
        "  dL = (1+z) * (R0_chi(z, OmegaM, H0)) # changed z_obs to z\n",
        "  mu = 5* np.log10(dL) + 25 # theoretical mu\n",
        "  return mu\n",
        "\n",
        "def chi2(params):\n",
        "  OmegaM, H0 = params\n",
        "  mu_model = np.array([mu_theoretical(OmegaM, H0, z) for z in z_obs_cut])\n",
        "\n",
        "  dmu = mu_obs_cut - mu_model # observed mu - theoretical mu\n",
        "  # transpose of dmu\n",
        "  dmu_T = dmu.transpose()\n",
        "  return np.dot(dmu, np.dot(inverse_cm, dmu_T))\n",
        "\n",
        "initial_guess = [0.3, 50.0]  # OmegaM, H0 (H0 in km/s/Mpc)\n",
        "result = minimize(chi2, x0 = initial_guess, method='nelder-mead')\n",
        "\n",
        "print(\"Optimisation Results:\")\n",
        "print(f\"OmegaM = {result.x[0]:.4f}\")\n",
        "print(f\"H0 = {result.x[1]:.4f} km/s/Mpc\")\n",
        "print(f\"Minimum chi-squared = {result.fun:.2f}\")"
      ],
      "metadata": {
        "colab": {
          "base_uri": "https://localhost:8080/"
        },
        "id": "usIF84hhXcm8",
        "outputId": "7d69b550-2aa4-4ce6-9ae1-a65eb08addbf"
      },
      "execution_count": 7,
      "outputs": [
        {
          "output_type": "stream",
          "name": "stdout",
          "text": [
            "Optimisation Results:\n",
            "OmegaM = 0.3409\n",
            "H0 = 69.4833 km/s/Mpc\n",
            "Minimum chi-squared = 1542.16\n"
          ]
        }
      ]
    },
    {
      "cell_type": "code",
      "source": [
        "# Flat-wCDM model\n",
        "\n",
        "#cmbR prior values (this is what DES did too)\n",
        "R_obs = 1.7502\n",
        "sigma_R = 0.0046\n",
        "z_star = 1089.95 # redshift of last scattering\n",
        "\n",
        "def E(z, OmegaM, w):\n",
        "    return np.sqrt(OmegaM * (1 + z)**3 + (1 - OmegaM) * (1 + z)**(3 * (1 + w)))\n",
        "\n",
        "# R0 * χ(z): Comoving distance\n",
        "def R0_chi(z, OmegaM, w, H0):\n",
        "    def integrand(z):\n",
        "        return 1 / E(z, OmegaM, w)\n",
        "\n",
        "    integral, _ = quad(integrand, 0, z)\n",
        "    return (c / H0) * integral\n",
        "\n",
        "# defining R_model to add CMB-R as a prior\n",
        "def R_model(OmegaM, w, H0):\n",
        "    D_M = R0_chi(z_star, OmegaM, w, H0)\n",
        "    return np.sqrt(OmegaM) * H0 * D_M / c\n",
        "\n",
        "# Theoretical distance modulus\n",
        "def mu_theoretical(OmegaM, w, H0, z):\n",
        "    dL = (1 + z) * R0_chi(z, OmegaM, w, H0)\n",
        "    return 5 * np.log10(dL) + 25\n",
        "\n",
        "# Chi-squared function\n",
        "def chi2(params):\n",
        "    OmegaM, w, H0 = params\n",
        "    mu_model = np.array([mu_theoretical(OmegaM, w, H0, z) for z in z_obs_cut])\n",
        "\n",
        "    dmu = mu_obs_cut - mu_model  # observed - theoretical\n",
        "    dmu_T = dmu.transpose()\n",
        "    chi2_SN = np.dot(dmu, np.dot(inverse_cm, dmu_T))\n",
        "\n",
        "    # CMB-R chi2\n",
        "    R_true = R_model(OmegaM, w, H0)\n",
        "    chi2_CMB = ((R_true - R_obs) / sigma_R)**2\n",
        "    return chi2_SN + chi2_CMB\n",
        "\n",
        "initial_guess = [0.3, -1.0, 50.0]  # OmegaM, w, H0\n",
        "result2 = minimize(chi2, x0=initial_guess, method='nelder-mead')\n",
        "\n",
        "print(\"Optimisation Results:\")\n",
        "print(f\"OmegaM = {result2.x[0]:.4f}\")\n",
        "print(f\"w = {result2.x[1]:.4f}\")\n",
        "print(f\"H0 = {result2.x[2]:.4f} km/s/Mpc\")\n",
        "print(f\"Minimum chi-squared = {result2.fun:.2f}\")"
      ],
      "metadata": {
        "colab": {
          "base_uri": "https://localhost:8080/"
        },
        "id": "mGr3D6DwXg-V",
        "outputId": "20c6c77c-6d2b-40bc-b2e7-2b6ff5591fbc"
      },
      "execution_count": 8,
      "outputs": [
        {
          "output_type": "stream",
          "name": "stdout",
          "text": [
            "Optimisation Results:\n",
            "OmegaM = 0.3193\n",
            "w = -0.9317\n",
            "H0 = 69.3072 km/s/Mpc\n",
            "Minimum chi-squared = 1540.62\n"
          ]
        }
      ]
    },
    {
      "cell_type": "code",
      "source": [
        "# Flat-w0waCDM model\n",
        "\n",
        "def E(z, OmegaM, w0, wa):\n",
        "    exponent = -3 * wa * z / (1 + z)\n",
        "    return np.sqrt(OmegaM * (1 + z)**3 + (1 - OmegaM) * (1 + z)**(3 * (1 + w0 + wa)) * np.exp(exponent))\n",
        "\n",
        "# R0 * χ(z): Comoving distance\n",
        "def R0_chi(z, OmegaM, w0, wa, H0):\n",
        "    def integrand(z):\n",
        "        return 1 / E(z, OmegaM, w0, wa)\n",
        "\n",
        "    integral, _ = quad(integrand, 0, z)\n",
        "    return (c / H0) * integral\n",
        "\n",
        "# Theoretical distance modulus\n",
        "def mu_theoretical(OmegaM, w0, wa, H0, z):\n",
        "    dL = (1 + z) * R0_chi(z, OmegaM, w0, wa, H0)\n",
        "    return 5 * np.log10(dL) + 25\n",
        "\n",
        "# Chi-squared function\n",
        "def chi2(params):\n",
        "    OmegaM, w0, wa, H0 = params\n",
        "    mu_model = np.array([mu_theoretical(OmegaM, w0, wa, H0, z) for z in z_obs_cut])\n",
        "\n",
        "    dmu = mu_obs_cut - mu_model  # observed - theoretical\n",
        "    dmu_T = dmu.transpose()\n",
        "    return np.dot(dmu, np.dot(inverse_cm, dmu_T))\n",
        "\n",
        "initial_guess = [0.3, -0.3, -8, 50.0]  # OmegaM, w0, wa, H0\n",
        "result3 = minimize(chi2, x0=initial_guess, method='nelder-mead')\n",
        "\n",
        "print(\"Optimisation Results:\")\n",
        "print(f\"OmegaM = {result3.x[0]:.4f}\")\n",
        "print(f\"w0 = {result3.x[1]:.4f}\")\n",
        "print(f\"wa = {result3.x[2]:.4f}\")\n",
        "print(f\"H0 = {result3.x[3]:.4f} km/s/Mpc\")\n",
        "print(f\"Minimum chi-squared = {result3.fun:.2f}\")"
      ],
      "metadata": {
        "colab": {
          "base_uri": "https://localhost:8080/"
        },
        "id": "LihlQZivXigN",
        "outputId": "66348e95-b072-4634-8f3e-4c016bc6fe57"
      },
      "execution_count": 9,
      "outputs": [
        {
          "output_type": "stream",
          "name": "stdout",
          "text": [
            "Optimisation Results:\n",
            "OmegaM = 0.3613\n",
            "w0 = -0.6481\n",
            "wa = -2.5049\n",
            "H0 = 68.5775 km/s/Mpc\n",
            "Minimum chi-squared = 1535.06\n"
          ]
        }
      ]
    },
    {
      "cell_type": "code",
      "source": [
        "import scipy\n",
        "from scipy.stats import norm\n",
        "\n",
        "delta_chi2 = result.fun - result3.fun # always do simpler model - complexer model\n",
        "dof = 1 # difference in number of params between models\n",
        "\n",
        "p_value = 1 - scipy.stats.chi2.cdf(delta_chi2, dof)\n",
        "\n",
        "sigma = norm.ppf(1 - p_value/2)\n",
        "print(\"Two-tailed p-value:\", p_value)\n",
        "print(\"Significance level (σ):\", sigma)"
      ],
      "metadata": {
        "colab": {
          "base_uri": "https://localhost:8080/"
        },
        "id": "QIyS37uXXj_V",
        "outputId": "58d03069-54e6-43d1-b3c8-cb1b0fe49fc4"
      },
      "execution_count": 10,
      "outputs": [
        {
          "output_type": "stream",
          "name": "stdout",
          "text": [
            "Two-tailed p-value: 0.007705416196564174\n",
            "Significance level (σ): 2.664712520675524\n"
          ]
        }
      ]
    },
    {
      "cell_type": "code",
      "source": [
        "delta_chi2 = result.fun - result2.fun # always do simpler model - complexer model\n",
        "dof = 1 # difference in number of params between models\n",
        "\n",
        "p_value = 1 - scipy.stats.chi2.cdf(delta_chi2, dof)\n",
        "\n",
        "sigma = norm.ppf(1 - p_value/2)\n",
        "print(\"Two-tailed p-value:\", p_value)\n",
        "print(\"Significance level (σ):\", sigma)"
      ],
      "metadata": {
        "colab": {
          "base_uri": "https://localhost:8080/"
        },
        "id": "LsWPTFjqXldj",
        "outputId": "d8bdcb91-2d43-430a-a4ad-afabd24ce309"
      },
      "execution_count": 11,
      "outputs": [
        {
          "output_type": "stream",
          "name": "stdout",
          "text": [
            "Two-tailed p-value: 0.2136702009150092\n",
            "Significance level (σ): 1.243536495846231\n"
          ]
        }
      ]
    },
    {
      "cell_type": "code",
      "source": [
        "delta_chi2 = result2.fun - result3.fun # always do simpler model - complexer model\n",
        "dof = 2 # difference in number of params between models\n",
        "\n",
        "p_value = 1 - scipy.stats.chi2.cdf(delta_chi2, dof)\n",
        "\n",
        "sigma = norm.ppf(1 - p_value/2)\n",
        "print(\"Two-tailed p-value:\", p_value)\n",
        "print(\"Significance level (σ):\", sigma)"
      ],
      "metadata": {
        "colab": {
          "base_uri": "https://localhost:8080/"
        },
        "id": "wK4Y9Iv4Xmxf",
        "outputId": "a1f83813-89b5-4e8b-adff-902c1e386d81"
      },
      "execution_count": 12,
      "outputs": [
        {
          "output_type": "stream",
          "name": "stdout",
          "text": [
            "Two-tailed p-value: 0.062215264419466565\n",
            "Significance level (σ): 1.8647584879796515\n"
          ]
        }
      ]
    }
  ]
}