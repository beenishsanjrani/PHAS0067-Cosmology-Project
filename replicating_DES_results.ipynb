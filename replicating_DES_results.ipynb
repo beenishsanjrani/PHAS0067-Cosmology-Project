{
  "nbformat": 4,
  "nbformat_minor": 0,
  "metadata": {
    "colab": {
      "provenance": []
    },
    "kernelspec": {
      "name": "python3",
      "display_name": "Python 3"
    },
    "language_info": {
      "name": "python"
    }
  },
  "cells": [
    {
      "cell_type": "code",
      "execution_count": 1,
      "metadata": {
        "colab": {
          "base_uri": "https://localhost:8080/"
        },
        "id": "KHMSGf9pG8nC",
        "outputId": "59cc1ee7-a39e-4552-b706-a3d109116457"
      },
      "outputs": [
        {
          "output_type": "stream",
          "name": "stdout",
          "text": [
            "Requirement already satisfied: numdifftools in /usr/local/lib/python3.12/dist-packages (0.9.41)\n",
            "Requirement already satisfied: numpy>=1.9 in /usr/local/lib/python3.12/dist-packages (from numdifftools) (2.0.2)\n",
            "Requirement already satisfied: scipy>=0.8 in /usr/local/lib/python3.12/dist-packages (from numdifftools) (1.16.1)\n",
            "Requirement already satisfied: corner in /usr/local/lib/python3.12/dist-packages (2.2.3)\n",
            "Requirement already satisfied: matplotlib>=2.1 in /usr/local/lib/python3.12/dist-packages (from corner) (3.10.0)\n",
            "Requirement already satisfied: contourpy>=1.0.1 in /usr/local/lib/python3.12/dist-packages (from matplotlib>=2.1->corner) (1.3.3)\n",
            "Requirement already satisfied: cycler>=0.10 in /usr/local/lib/python3.12/dist-packages (from matplotlib>=2.1->corner) (0.12.1)\n",
            "Requirement already satisfied: fonttools>=4.22.0 in /usr/local/lib/python3.12/dist-packages (from matplotlib>=2.1->corner) (4.59.1)\n",
            "Requirement already satisfied: kiwisolver>=1.3.1 in /usr/local/lib/python3.12/dist-packages (from matplotlib>=2.1->corner) (1.4.9)\n",
            "Requirement already satisfied: numpy>=1.23 in /usr/local/lib/python3.12/dist-packages (from matplotlib>=2.1->corner) (2.0.2)\n",
            "Requirement already satisfied: packaging>=20.0 in /usr/local/lib/python3.12/dist-packages (from matplotlib>=2.1->corner) (25.0)\n",
            "Requirement already satisfied: pillow>=8 in /usr/local/lib/python3.12/dist-packages (from matplotlib>=2.1->corner) (11.3.0)\n",
            "Requirement already satisfied: pyparsing>=2.3.1 in /usr/local/lib/python3.12/dist-packages (from matplotlib>=2.1->corner) (3.2.3)\n",
            "Requirement already satisfied: python-dateutil>=2.7 in /usr/local/lib/python3.12/dist-packages (from matplotlib>=2.1->corner) (2.9.0.post0)\n",
            "Requirement already satisfied: six>=1.5 in /usr/local/lib/python3.12/dist-packages (from python-dateutil>=2.7->matplotlib>=2.1->corner) (1.17.0)\n"
          ]
        }
      ],
      "source": [
        "!pip install numdifftools\n",
        "!pip install corner\n",
        "# importing stuff\n",
        "import numpy as np\n",
        "import matplotlib.pyplot as plt\n",
        "import pandas as pd\n",
        "from scipy.stats import linregress, chi2\n",
        "from astropy.io import fits\n",
        "from scipy.integrate import quad\n",
        "from scipy.optimize import curve_fit, minimize, approx_fprime\n",
        "import numdifftools as nd\n",
        "import csv\n",
        "from matplotlib.patches import Ellipse\n",
        "import corner"
      ]
    },
    {
      "cell_type": "code",
      "source": [
        "# mount drive\n",
        "from google.colab import drive\n",
        "drive.mount(\"/content/drive\")"
      ],
      "metadata": {
        "colab": {
          "base_uri": "https://localhost:8080/"
        },
        "id": "5tc-5RN7HFKw",
        "outputId": "ed3f2435-3ce6-4780-8a52-b22bfb4c1482"
      },
      "execution_count": 2,
      "outputs": [
        {
          "output_type": "stream",
          "name": "stdout",
          "text": [
            "Drive already mounted at /content/drive; to attempt to forcibly remount, call drive.mount(\"/content/drive\", force_remount=True).\n"
          ]
        }
      ]
    },
    {
      "cell_type": "code",
      "source": [
        "# downloading data\n",
        "csv_data = '/content/drive/MyDrive/2024project/DES-SN5YR_HD.csv'\n",
        "df = pd.read_csv(csv_data)\n",
        "z_obs = df['zHD']\n",
        "mu_obs = df['MU']\n",
        "\n",
        "sys_data = np.loadtxt('/content/drive/MyDrive/2024project/STAT+SYS_new.txt')\n",
        "mu_error = df['MUERR_FINAL']\n",
        "\n",
        "# reshaping stat and sys files into a square matrix\n",
        "shape = (1829,1829)\n",
        "sys_data_proper = sys_data.reshape(shape)\n",
        "\n",
        "#add sys and stat\n",
        "np.fill_diagonal(sys_data_proper, sys_data_proper.diagonal() + mu_error**2)\n",
        "\n",
        "# inverting matrix\n",
        "inverse_cm = np.linalg.inv(sys_data_proper)\n",
        "\n",
        "c = 3e5 # km/s\n",
        "\n",
        "print(len(z_obs))\n",
        "print(len(mu_obs))"
      ],
      "metadata": {
        "colab": {
          "base_uri": "https://localhost:8080/"
        },
        "id": "5rZQbPdmHGZS",
        "outputId": "e751173e-fe3a-485a-b234-23532cbd4257"
      },
      "execution_count": 3,
      "outputs": [
        {
          "output_type": "stream",
          "name": "stdout",
          "text": [
            "1829\n",
            "1829\n"
          ]
        }
      ]
    },
    {
      "cell_type": "code",
      "source": [
        "from scipy.stats import linregress\n",
        "from astropy.io import fits\n",
        "from scipy.integrate import quad\n",
        "from scipy.optimize import curve_fit, minimize, approx_fprime\n",
        "import csv"
      ],
      "metadata": {
        "id": "v-7bj-AkHZ9D"
      },
      "execution_count": 4,
      "outputs": []
    },
    {
      "cell_type": "code",
      "source": [
        "# minimising chi2 for Flat-ΛCDM\n",
        "c = 3e5 # km/s\n",
        "\n",
        "# flat-ΛCDM, fitting for omega_M using eqn from table 1 from DES paper\n",
        "def E(z, OmegaM):\n",
        "    hubble_param = np.sqrt(OmegaM * (1 + z)**3 + (1 - OmegaM))\n",
        "    return hubble_param\n",
        "    print(hubble_param)\n",
        "\n",
        "# comoving distance, equation 2 from DES paper\n",
        "def R0_chi(z, OmegaM, H0):\n",
        "    def integrand(z):\n",
        "        return 1 / E(z, OmegaM)\n",
        "\n",
        "    # performing numerical integration\n",
        "    integral, _ = quad(integrand, 0, z)\n",
        "    return (c / H0) * integral\n",
        "\n",
        "# theoretical distance modulus\n",
        "def mu_theoretical(OmegaM, H0, z):\n",
        "  dL = (1+z) * (R0_chi(z, OmegaM, H0)) # changed z_obs to z\n",
        "  mu = 5* np.log10(dL) + 25 # theoretical mu\n",
        "  return mu\n",
        "\n",
        "# chi-squared function\n",
        "def chi2(params):\n",
        "  OmegaM, H0 = params\n",
        "  mu_model = np.array([mu_theoretical(OmegaM, H0, z) for z in z_obs])\n",
        "\n",
        "  dmu = mu_obs - mu_model # observed mu - theoretical mu\n",
        "  # transpose of dmu\n",
        "  dmu_T = dmu.transpose()\n",
        "  return np.dot(dmu, np.dot(inverse_cm, dmu_T))\n",
        "\n",
        "initial_guess = [0.3, 50.0]  # OmegaM, H0 (H0 in km/s/Mpc)\n",
        "result = minimize(chi2, x0 = initial_guess, method='nelder-mead')\n",
        "\n",
        "print(\"Optimisation Results:\")\n",
        "print(f\"OmegaM = {result.x[0]:.4f}\")\n",
        "print(f\"H0 = {result.x[1]:.4f} km/s/Mpc\")\n",
        "print(f\"Minimum chi-squared = {result.fun:.2f}\")"
      ],
      "metadata": {
        "colab": {
          "base_uri": "https://localhost:8080/"
        },
        "id": "-eVvmvl3HapA",
        "outputId": "b6da0452-8534-4730-b3ba-20e8f8795e9d"
      },
      "execution_count": 5,
      "outputs": [
        {
          "output_type": "stream",
          "name": "stdout",
          "text": [
            "Optimisation Results:\n",
            "OmegaM = 0.3499\n",
            "H0 = 69.3691 km/s/Mpc\n",
            "Minimum chi-squared = 1640.31\n"
          ]
        }
      ]
    },
    {
      "cell_type": "code",
      "source": [
        "# Flat wCDM model\n",
        "\n",
        "def E(z, OmegaM, w):\n",
        "    return np.sqrt(OmegaM * (1 + z)**3 + (1 - OmegaM) * (1 + z)**(3 * (1 + w)))\n",
        "\n",
        "# comoving distance\n",
        "def R0_chi(z, OmegaM, w, H0):\n",
        "    def integrand(z):\n",
        "        return 1 / E(z, OmegaM, w)\n",
        "\n",
        "    integral, _ = quad(integrand, 0, z)\n",
        "    return (c / H0) * integral\n",
        "\n",
        "# theoretical distance modulus\n",
        "def mu_theoretical(OmegaM, w, H0, z):\n",
        "    dL = (1 + z) * R0_chi(z, OmegaM, w, H0)\n",
        "    return 5 * np.log10(dL) + 25\n",
        "\n",
        "# chi-squared function\n",
        "def chi2(params):\n",
        "    OmegaM, w, H0 = params\n",
        "    mu_model = np.array([mu_theoretical(OmegaM, w, H0, z) for z in z_obs])\n",
        "\n",
        "    dmu = mu_obs - mu_model  # observed - theoretical\n",
        "    dmu_T = dmu.transpose()\n",
        "    return np.dot(dmu, np.dot(inverse_cm, dmu_T))\n",
        "\n",
        "initial_guess = [0.3, -1.0, 50]  # OmegaM, w\n",
        "result2 = minimize(chi2, x0=initial_guess, method='nelder-mead')\n",
        "\n",
        "print(\"Optimisation Results:\")\n",
        "print(f\"OmegaM = {result2.x[0]:.3f}\")\n",
        "print(f\"w = {result2.x[1]:.4f}\")\n",
        "print(f\"H0 = {result2.x[2]:.4f} km/s/Mpc\")\n",
        "print(f\"Minimum chi-squared = {result2.fun:.2f}\")"
      ],
      "metadata": {
        "colab": {
          "base_uri": "https://localhost:8080/"
        },
        "id": "XNRPUmTcHceo",
        "outputId": "bb4223a8-ba3b-405f-aa55-5f6ba05953d6"
      },
      "execution_count": 6,
      "outputs": [
        {
          "output_type": "stream",
          "name": "stdout",
          "text": [
            "Optimisation Results:\n",
            "OmegaM = 0.273\n",
            "w = -0.8183\n",
            "H0 = 69.0961 km/s/Mpc\n",
            "Minimum chi-squared = 1639.00\n"
          ]
        }
      ]
    },
    {
      "cell_type": "code",
      "source": [
        "# Flat-w0waCDM model\n",
        "\n",
        "def E(z, OmegaM, w0, wa):\n",
        "    exponent = -3 * wa * z / (1 + z)\n",
        "    return np.sqrt(OmegaM * (1 + z)**3 + (1 - OmegaM) * (1 + z)**(3 * (1 + w0 + wa)) * np.exp(exponent))\n",
        "\n",
        "# comoving distance\n",
        "def R0_chi(z, OmegaM, w0, wa, H0):\n",
        "    def integrand(z):\n",
        "        return 1 / E(z, OmegaM, w0, wa)\n",
        "\n",
        "    integral, _ = quad(integrand, 0, z)\n",
        "    return (c / H0) * integral\n",
        "\n",
        "# theoretical distance modulus\n",
        "def mu_theoretical(OmegaM, w0, wa, H0, z):\n",
        "    dL = (1 + z) * R0_chi(z, OmegaM, w0, wa, H0)\n",
        "    return 5 * np.log10(dL) + 25\n",
        "\n",
        "# chi-squared function\n",
        "def chi2(params):\n",
        "    OmegaM, w0, wa, H0 = params\n",
        "    mu_model = np.array([mu_theoretical(OmegaM, w0, wa, H0, z) for z in z_obs])\n",
        "\n",
        "    dmu = mu_obs - mu_model  # observed - theoretical\n",
        "    dmu_T = dmu.transpose()\n",
        "    return np.dot(dmu, np.dot(inverse_cm, dmu_T))\n",
        "\n",
        "initial_guess = [0.3, -0.3, -8, 50.0]  # OmegaM, w0, wa, H0\n",
        "result3 = minimize(chi2, x0=initial_guess, method='nelder-mead')\n",
        "\n",
        "print(\"Optimisation Results:\")\n",
        "print(f\"OmegaM = {result3.x[0]:.4f}\")\n",
        "print(f\"w0 = {result3.x[1]:.4f}\")\n",
        "print(f\"wa = {result3.x[2]:.4f}\")\n",
        "print(f\"H0 = {result3.x[3]:.4f} km/s/Mpc\")\n",
        "print(f\"Minimum chi-squared = {result3.fun:.2f}\")"
      ],
      "metadata": {
        "colab": {
          "base_uri": "https://localhost:8080/"
        },
        "id": "H12nH7_JHkNy",
        "outputId": "602e265b-028d-4614-95fd-2ab7bb97fd9a"
      },
      "execution_count": 7,
      "outputs": [
        {
          "output_type": "stream",
          "name": "stdout",
          "text": [
            "Optimisation Results:\n",
            "OmegaM = 0.4865\n",
            "w0 = -0.4322\n",
            "wa = -7.9888\n",
            "H0 = 68.2321 km/s/Mpc\n",
            "Minimum chi-squared = 1632.70\n"
          ]
        }
      ]
    },
    {
      "cell_type": "code",
      "source": [
        "import scipy\n",
        "from scipy.stats import norm\n",
        "\n",
        "# two tailed tests to find the p value and significance\n",
        "\n",
        "# LCDM vs w0waCDM\n",
        "\n",
        "delta_chi2 = result.fun - result3.fun # always do simpler model - complexer model\n",
        "dof = 2 # difference in number of params between models\n",
        "\n",
        "p_value = 1 - scipy.stats.chi2.cdf(delta_chi2, dof)\n",
        "\n",
        "sigma = norm.ppf(1 - p_value/2)\n",
        "print(\"Two-tailed p-value:\", p_value)\n",
        "print(\"Significance level (σ):\", sigma)"
      ],
      "metadata": {
        "colab": {
          "base_uri": "https://localhost:8080/"
        },
        "id": "AO4y-nj4HqXl",
        "outputId": "2dd6f995-e166-46e0-91d1-d3808a302356"
      },
      "execution_count": 8,
      "outputs": [
        {
          "output_type": "stream",
          "name": "stdout",
          "text": [
            "Two-tailed p-value: 0.022299024155470026\n",
            "Significance level (σ): 2.2852354745042107\n"
          ]
        }
      ]
    },
    {
      "cell_type": "code",
      "source": [
        "# LCDM vs wCDM\n",
        "\n",
        "delta_chi2 = result.fun - result2.fun # always do simpler model - complexer model\n",
        "dof = 1 # difference in number of params between models\n",
        "\n",
        "p_value = 1 - scipy.stats.chi2.cdf(delta_chi2, dof)\n",
        "\n",
        "sigma = norm.ppf(1 - p_value/2)\n",
        "print(\"Two-tailed p-value:\", p_value)\n",
        "print(\"Significance level (σ):\", sigma)"
      ],
      "metadata": {
        "colab": {
          "base_uri": "https://localhost:8080/"
        },
        "id": "PHQNw25dH6tt",
        "outputId": "aee257a3-b705-4ad1-b381-78895ca1e575"
      },
      "execution_count": 9,
      "outputs": [
        {
          "output_type": "stream",
          "name": "stdout",
          "text": [
            "Two-tailed p-value: 0.252885737372919\n",
            "Significance level (σ): 1.1433682299009305\n"
          ]
        }
      ]
    },
    {
      "cell_type": "code",
      "source": [
        "# wCDM vs w0waCDM\n",
        "\n",
        "delta_chi2 = result2.fun - result3.fun # always do simpler model - complexer model\n",
        "dof = 1 # difference in number of params between models\n",
        "\n",
        "p_value = 1 - scipy.stats.chi2.cdf(delta_chi2, dof)\n",
        "\n",
        "sigma = norm.ppf(1 - p_value/2)\n",
        "print(\"Two-tailed p-value:\", p_value)\n",
        "print(\"Significance level (σ):\", sigma)"
      ],
      "metadata": {
        "colab": {
          "base_uri": "https://localhost:8080/"
        },
        "id": "b3C6uxxfH-S1",
        "outputId": "04d6a237-74ab-49ec-eb30-cd364e2ac527"
      },
      "execution_count": 10,
      "outputs": [
        {
          "output_type": "stream",
          "name": "stdout",
          "text": [
            "Two-tailed p-value: 0.01207969833759348\n",
            "Significance level (σ): 2.509807525187759\n"
          ]
        }
      ]
    },
    {
      "cell_type": "code",
      "source": [],
      "metadata": {
        "id": "baNs16lyIEN9"
      },
      "execution_count": 10,
      "outputs": []
    }
  ]
}